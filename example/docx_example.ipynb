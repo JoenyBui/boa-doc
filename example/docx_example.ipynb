{
 "metadata": {
  "name": "",
  "signature": "sha256:84f9a94071cfaa26f8501850be14cd77f8675c2e0e6aefe7aecd67f69c470326"
 },
 "nbformat": 3,
 "nbformat_minor": 0,
 "worksheets": [
  {
   "cells": [
    {
     "cell_type": "code",
     "collapsed": false,
     "input": [
      "from docx import Document\n",
      "from docx.shared import Inches"
     ],
     "language": "python",
     "metadata": {},
     "outputs": [],
     "prompt_number": 1
    },
    {
     "cell_type": "code",
     "collapsed": false,
     "input": [
      "document = Document()"
     ],
     "language": "python",
     "metadata": {},
     "outputs": [],
     "prompt_number": 2
    },
    {
     "cell_type": "code",
     "collapsed": false,
     "input": [
      "document.add_heading('Document Title', 0)"
     ],
     "language": "python",
     "metadata": {},
     "outputs": [
      {
       "metadata": {},
       "output_type": "pyout",
       "prompt_number": 3,
       "text": [
        "<docx.text.Paragraph at 0x3d639e8>"
       ]
      }
     ],
     "prompt_number": 3
    },
    {
     "cell_type": "code",
     "collapsed": false,
     "input": [
      "p = document.add_paragraph('A plain paragraph having some ')\n",
      "p.add_run('bold').bold = True\n",
      "p.add_run(' and some ')\n",
      "p.add_run('italic.').italic = True"
     ],
     "language": "python",
     "metadata": {},
     "outputs": [],
     "prompt_number": 4
    },
    {
     "cell_type": "code",
     "collapsed": false,
     "input": [
      "document.add_heading('Heading, level 1', level=1)"
     ],
     "language": "python",
     "metadata": {},
     "outputs": [
      {
       "metadata": {},
       "output_type": "pyout",
       "prompt_number": 5,
       "text": [
        "<docx.text.Paragraph at 0x3d63f98>"
       ]
      }
     ],
     "prompt_number": 5
    },
    {
     "cell_type": "code",
     "collapsed": false,
     "input": [
      "document.add_paragraph('Intense quote', style='IntenseQuote')"
     ],
     "language": "python",
     "metadata": {},
     "outputs": [
      {
       "metadata": {},
       "output_type": "pyout",
       "prompt_number": 6,
       "text": [
        "<docx.text.Paragraph at 0x3d63eb8>"
       ]
      }
     ],
     "prompt_number": 6
    },
    {
     "cell_type": "code",
     "collapsed": false,
     "input": [
      "document.add_paragraph('first item in unordered list', style='ListBullet')"
     ],
     "language": "python",
     "metadata": {},
     "outputs": [
      {
       "metadata": {},
       "output_type": "pyout",
       "prompt_number": 7,
       "text": [
        "<docx.text.Paragraph at 0x3d63588>"
       ]
      }
     ],
     "prompt_number": 7
    },
    {
     "cell_type": "code",
     "collapsed": false,
     "input": [
      "document.add_paragraph('first item in ordered list', style='ListNumber')"
     ],
     "language": "python",
     "metadata": {},
     "outputs": [
      {
       "metadata": {},
       "output_type": "pyout",
       "prompt_number": 8,
       "text": [
        "<docx.text.Paragraph at 0x3d637f0>"
       ]
      }
     ],
     "prompt_number": 8
    },
    {
     "cell_type": "code",
     "collapsed": false,
     "input": [
      "document.add_picture('example-docx-01.png', width=Inches(1.25))"
     ],
     "language": "python",
     "metadata": {},
     "outputs": [
      {
       "metadata": {},
       "output_type": "pyout",
       "prompt_number": 10,
       "text": [
        "<docx.shape.InlineShape at 0x3ec0a20>"
       ]
      }
     ],
     "prompt_number": 10
    },
    {
     "cell_type": "code",
     "collapsed": false,
     "input": [
      "table = document.add_table(rows=1, cols=3)\n",
      "hdr_cells = table.rows[0].cells\n",
      "hdr_cells[0].text = 'Qty'\n",
      "hdr_cells[1].text = 'Id'\n",
      "hdr_cells[2].text = 'Desc'\n",
      "\n",
      "# for item in recordset:\n",
      "#     row_cells = table.add_row().cells\n",
      "#     row_cells[0].text = str(item.qty)\n",
      "#     row_cells[1].text = str(item.id)\n",
      "#     row_cells[2].text = item.desc"
     ],
     "language": "python",
     "metadata": {},
     "outputs": [],
     "prompt_number": 11
    },
    {
     "cell_type": "code",
     "collapsed": false,
     "input": [
      "document.add_page_break()"
     ],
     "language": "python",
     "metadata": {},
     "outputs": [
      {
       "metadata": {},
       "output_type": "pyout",
       "prompt_number": 12,
       "text": [
        "<docx.text.Paragraph at 0x3ec0e48>"
       ]
      }
     ],
     "prompt_number": 12
    },
    {
     "cell_type": "code",
     "collapsed": false,
     "input": [
      "document.save('demo.docx')"
     ],
     "language": "python",
     "metadata": {},
     "outputs": [],
     "prompt_number": 13
    },
    {
     "cell_type": "code",
     "collapsed": false,
     "input": [],
     "language": "python",
     "metadata": {},
     "outputs": []
    }
   ],
   "metadata": {}
  }
 ]
}